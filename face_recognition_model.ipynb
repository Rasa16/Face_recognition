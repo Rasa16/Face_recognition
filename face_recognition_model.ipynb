{
  "nbformat": 4,
  "nbformat_minor": 0,
  "metadata": {
    "colab": {
      "name": "face_recognition_model.ipynb",
      "provenance": [],
      "mount_file_id": "1eSrkjXzkY_cjT2Bgw39e6kSn1qLnxYWd",
      "authorship_tag": "ABX9TyM8BEz6zicF6ieNRpjmY3nX",
      "include_colab_link": true
    },
    "kernelspec": {
      "name": "python3",
      "display_name": "Python 3"
    }
  },
  "cells": [
    {
      "cell_type": "markdown",
      "metadata": {
        "id": "view-in-github",
        "colab_type": "text"
      },
      "source": [
        "<a href=\"https://colab.research.google.com/github/Rasa16/Face_recognition/blob/master/face_recognition_model.ipynb\" target=\"_parent\"><img src=\"https://colab.research.google.com/assets/colab-badge.svg\" alt=\"Open In Colab\"/></a>"
      ]
    },
    {
      "cell_type": "code",
      "metadata": {
        "id": "7CwAgRI-0FFB",
        "colab_type": "code",
        "colab": {}
      },
      "source": [
        "# import the necessary packages\n",
        "from sklearn.preprocessing import LabelEncoder\n",
        "from sklearn.svm import SVC\n",
        "import argparse\n",
        "import pickle"
      ],
      "execution_count": null,
      "outputs": []
    },
    {
      "cell_type": "code",
      "metadata": {
        "id": "hX6uiItm0g8y",
        "colab_type": "code",
        "colab": {
          "base_uri": "https://localhost:8080/",
          "height": 50
        },
        "outputId": "3eecc561-6e3f-4f01-8dd1-639f66a78080"
      },
      "source": [
        "# load the face embeddings\n",
        "print(\"[INFO] loading face embeddings...\")\n",
        "data = pickle.loads(open(\"/content/drive/My Drive/Face_recognition_own/face_recognition_own_opencv/encodings_own_opencv.pickle\", \"rb\").read())\n",
        "\n",
        "# encode the labels\n",
        "print(\"[INFO] encoding labels...\")\n",
        "le = LabelEncoder()\n",
        "labels = le.fit_transform(data[\"names\"])"
      ],
      "execution_count": null,
      "outputs": [
        {
          "output_type": "stream",
          "text": [
            "[INFO] loading face embeddings...\n",
            "[INFO] encoding labels...\n"
          ],
          "name": "stdout"
        }
      ]
    },
    {
      "cell_type": "code",
      "metadata": {
        "id": "twCnXIDT2CcG",
        "colab_type": "code",
        "colab": {
          "base_uri": "https://localhost:8080/",
          "height": 101
        },
        "outputId": "d4095649-01fb-443b-afcd-0143213c248e"
      },
      "source": [
        "# train the model used to accept the 128-d embeddings of the face and\n",
        "# then produce the actual face recognition\n",
        "print(\"[INFO] training model...\")\n",
        "recognizer = SVC(C=1.0, kernel=\"linear\", probability=True)\n",
        "recognizer.fit(data[\"embeddings\"], labels)"
      ],
      "execution_count": null,
      "outputs": [
        {
          "output_type": "stream",
          "text": [
            "[INFO] training model...\n"
          ],
          "name": "stdout"
        },
        {
          "output_type": "execute_result",
          "data": {
            "text/plain": [
              "SVC(C=1.0, break_ties=False, cache_size=200, class_weight=None, coef0=0.0,\n",
              "    decision_function_shape='ovr', degree=3, gamma='scale', kernel='linear',\n",
              "    max_iter=-1, probability=True, random_state=None, shrinking=True, tol=0.001,\n",
              "    verbose=False)"
            ]
          },
          "metadata": {
            "tags": []
          },
          "execution_count": 3
        }
      ]
    },
    {
      "cell_type": "code",
      "metadata": {
        "id": "DhLaVHLi2Lzq",
        "colab_type": "code",
        "colab": {}
      },
      "source": [
        "# write the actual face recognition model to disk\n",
        "f = open(\"/content/drive/My Drive/Face_recognition_own/face_recognition_own_opencv/model.pickle\", \"wb\")\n",
        "f.write(pickle.dumps(recognizer))\n",
        "f.close()\n",
        "\n",
        "# write the label encoder to disk\n",
        "f = open(\"/content/drive/My Drive/Face_recognition_own/face_recognition_own_opencv/label_encoder.pickle\", \"wb\")\n",
        "f.write(pickle.dumps(le))\n",
        "f.close()"
      ],
      "execution_count": null,
      "outputs": []
    },
    {
      "cell_type": "code",
      "metadata": {
        "id": "blCRMs812jGC",
        "colab_type": "code",
        "colab": {}
      },
      "source": [
        ""
      ],
      "execution_count": null,
      "outputs": []
    }
  ]
}